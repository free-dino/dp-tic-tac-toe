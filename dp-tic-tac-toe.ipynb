{
 "cells": [
  {
   "cell_type": "code",
   "execution_count": 61,
   "metadata": {},
   "outputs": [],
   "source": [
    "import numpy as np\n",
    "import matplotlib.pyplot as plt\n",
    "import random"
   ]
  },
  {
   "cell_type": "code",
   "execution_count": 62,
   "metadata": {},
   "outputs": [],
   "source": [
    "EMPTY = 0\n",
    "PLAYER_X = 1\n",
    "PLAYER_O = -1"
   ]
  },
  {
   "cell_type": "code",
   "execution_count": 63,
   "metadata": {},
   "outputs": [],
   "source": [
    "memo = {}"
   ]
  },
  {
   "cell_type": "code",
   "execution_count": 64,
   "metadata": {},
   "outputs": [],
   "source": [
    "def generate_win_patterns(n):\n",
    "    \"\"\"Generate win patterns for an n x n Tic-Tac-Toe board.\"\"\"\n",
    "    win_patterns = []\n",
    "\n",
    "    # Rows and columns\n",
    "    for i in range(n):\n",
    "        win_patterns.append([(i, j) for j in range(n)])  # Row\n",
    "        win_patterns.append([(j, i) for j in range(n)])  # Column\n",
    "\n",
    "    # Diagonals\n",
    "    win_patterns.append([(i, i) for i in range(n)])  # Main diagonal\n",
    "    win_patterns.append([(i, n - 1 - i) for i in range(n)])  # Anti-diagonal\n",
    "\n",
    "    return win_patterns"
   ]
  },
  {
   "cell_type": "code",
   "execution_count": 65,
   "metadata": {},
   "outputs": [],
   "source": [
    "def check_win(board, win_patterns):\n",
    "    \"\"\"Checks if there is a winner on the board.\"\"\"\n",
    "    for pattern in win_patterns:\n",
    "        values = [board[x][y] for x, y in pattern]\n",
    "        if all(v == PLAYER_X for v in values):\n",
    "            return PLAYER_X\n",
    "        elif all(v == PLAYER_O for v in values):\n",
    "            return PLAYER_O\n",
    "    return None"
   ]
  },
  {
   "cell_type": "code",
   "execution_count": 66,
   "metadata": {},
   "outputs": [],
   "source": [
    "def board_full(board):\n",
    "    \"\"\"Returns True if the board is full (no empty spaces).\"\"\"\n",
    "    return all(board[i][j] != EMPTY for i in range(len(board)) for j in range(len(board)))\n"
   ]
  },
  {
   "cell_type": "code",
   "execution_count": 67,
   "metadata": {},
   "outputs": [],
   "source": [
    "def evaluate_state(board, player, win_patterns, alpha=-float('inf'), beta=float('inf')):\n",
    "    \"\"\"Evaluates the current board state using alpha-beta pruning.\"\"\"\n",
    "    board_tuple = tuple(tuple(row) for row in board)  # Convert to tuple for memoization\n",
    "\n",
    "    if board_tuple in memo:\n",
    "        return memo[board_tuple]\n",
    "\n",
    "    winner = check_win(board, win_patterns)\n",
    "    if winner is not None:\n",
    "        memo[board_tuple] = winner\n",
    "        return winner\n",
    "\n",
    "    if board_full(board):\n",
    "        memo[board_tuple] = 0  # Draw\n",
    "        return 0\n",
    "\n",
    "    # Recursive case: Try all possible moves for the current player\n",
    "    if player == PLAYER_X:  # Maximizing player (X)\n",
    "        best_value = -float('inf')\n",
    "        for i in range(len(board)):\n",
    "            for j in range(len(board)):\n",
    "                if board[i][j] == EMPTY:\n",
    "                    board[i][j] = PLAYER_X\n",
    "                    value = evaluate_state(board, PLAYER_O, win_patterns, alpha, beta)\n",
    "                    best_value = max(best_value, value)\n",
    "                    board[i][j] = EMPTY\n",
    "                    alpha = max(alpha, best_value)\n",
    "                    if beta <= alpha:  # Beta cut-off\n",
    "                        break\n",
    "        memo[board_tuple] = best_value\n",
    "        return best_value\n",
    "    else:  # Minimizing player (O)\n",
    "        best_value = float('inf')\n",
    "        for i in range(len(board)):\n",
    "            for j in range(len(board)):\n",
    "                if board[i][j] == EMPTY:\n",
    "                    board[i][j] = PLAYER_O\n",
    "                    value = evaluate_state(board, PLAYER_X, win_patterns, alpha, beta)\n",
    "                    best_value = min(best_value, value)\n",
    "                    board[i][j] = EMPTY\n",
    "                    beta = min(beta, best_value)\n",
    "                    if beta <= alpha:  # Alpha cut-off\n",
    "                        break\n",
    "        memo[board_tuple] = best_value\n",
    "        return best_value"
   ]
  },
  {
   "cell_type": "code",
   "execution_count": 68,
   "metadata": {},
   "outputs": [],
   "source": [
    "def get_optimal_move(board, player, win_patterns):\n",
    "    \"\"\"Returns the best move for the current player (X or O) using the evaluation function.\"\"\"\n",
    "    best_move = None\n",
    "    if player == PLAYER_X:\n",
    "        best_value = -float('inf')\n",
    "    else:\n",
    "        best_value = float('inf')\n",
    "\n",
    "    for i in range(len(board)):\n",
    "        for j in range(len(board)):\n",
    "            if board[i][j] == EMPTY:\n",
    "                board[i][j] = player\n",
    "                value = evaluate_state(board, PLAYER_O if player == PLAYER_X else PLAYER_X, win_patterns)\n",
    "                board[i][j] = EMPTY\n",
    "                if player == PLAYER_X and value > best_value:\n",
    "                    best_value = value\n",
    "                    best_move = (i, j)\n",
    "                elif player == PLAYER_O and value < best_value:\n",
    "                    best_value = value\n",
    "                    best_move = (i, j)\n",
    "\n",
    "    return best_move\n"
   ]
  },
  {
   "cell_type": "code",
   "execution_count": 69,
   "metadata": {},
   "outputs": [],
   "source": [
    "def simulate_game(board_size, win_patterns):\n",
    "    \"\"\"Simulates a single game of Tic-Tac-Toe with optimal moves.\"\"\"\n",
    "    board = [[EMPTY for _ in range(board_size)] for _ in range(board_size)]\n",
    "    current_player = PLAYER_X\n",
    "\n",
    "    while True:\n",
    "        if board_full(board):\n",
    "            return 0  # Draw\n",
    "\n",
    "        move = get_optimal_move(board, current_player, win_patterns)\n",
    "        if move is None:  # No available moves\n",
    "            return 0  # Draw\n",
    "\n",
    "        i, j = move\n",
    "        board[i][j] = current_player\n",
    "\n",
    "        # Check for win after the move\n",
    "        winner = check_win(board, win_patterns)\n",
    "        if winner is not None:\n",
    "            return winner\n",
    "\n",
    "        # Switch player\n",
    "        current_player = PLAYER_O if current_player == PLAYER_X else PLAYER_X\n"
   ]
  },
  {
   "cell_type": "code",
   "execution_count": 75,
   "metadata": {},
   "outputs": [],
   "source": [
    "def plot_win_rate(board_size, num_games=100):\n",
    "    \"\"\"Simulates multiple games and plots the win rate of Player X.\"\"\"\n",
    "    win_patterns = generate_win_patterns(board_size)\n",
    "    x_wins = 0\n",
    "    o_wins = 0\n",
    "    draws = 0\n",
    "\n",
    "    for _ in range(num_games):\n",
    "        result = simulate_game(board_size, win_patterns)\n",
    "        if result == PLAYER_X:\n",
    "            x_wins += 1\n",
    "        elif result == PLAYER_O:\n",
    "            o_wins += 1\n",
    "        else:\n",
    "            draws += 1\n",
    "\n",
    "    # Calculate rates\n",
    "    x_win_rate = x_wins / num_games\n",
    "    o_win_rate = o_wins / num_games\n",
    "    draw_rate = draws / num_games\n",
    "\n",
    "    # Plot the win rates\n",
    "    labels = ['Player X Wins', 'Player O Wins', 'Draws']\n",
    "    rates = [x_win_rate, o_win_rate, draw_rate]\n",
    "\n",
    "    plt.bar(labels, rates, color=['blue', 'red', 'gray'])\n",
    "    plt.xlabel('Outcome')\n",
    "    plt.ylabel('Rate')\n",
    "    plt.title(f'Win Rate for Tic-Tac-Toe {board_size}x{board_size}')\n",
    "    plt.show()"
   ]
  },
  {
   "cell_type": "code",
   "execution_count": 77,
   "metadata": {},
   "outputs": [],
   "source": [
    "plot_win_rate(4)"
   ]
  }
 ],
 "metadata": {
  "kernelspec": {
   "display_name": "base",
   "language": "python",
   "name": "python3"
  },
  "language_info": {
   "codemirror_mode": {
    "name": "ipython",
    "version": 3
   },
   "file_extension": ".py",
   "mimetype": "text/x-python",
   "name": "python",
   "nbconvert_exporter": "python",
   "pygments_lexer": "ipython3",
   "version": "3.12.0"
  }
 },
 "nbformat": 4,
 "nbformat_minor": 2
}
